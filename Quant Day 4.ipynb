{
 "cells": [
  {
   "cell_type": "markdown",
   "id": "85bf6c11-cd55-49b0-8dd2-f9977f38e701",
   "metadata": {},
   "source": [
    "## Interest rate"
   ]
  },
  {
   "cell_type": "code",
   "execution_count": 11,
   "id": "08acc26c-8614-480c-9ab1-794585154c26",
   "metadata": {},
   "outputs": [
    {
     "name": "stdout",
     "output_type": "stream",
     "text": [
      "Annual Rate: 5.0%\n",
      "Day Count Convention: Actual/Actual (ISDA)\n",
      "Compounding Type: Compounded\n",
      "Frequency: Annual\n",
      "Compound Factor for 2.0 years: 1.1025\n",
      "Manual Calculation: 1.1025\n"
     ]
    }
   ],
   "source": [
    "from QuantLib import *\n",
    "\n",
    "# Define the interest rate\n",
    "annual_rate = 0.05\n",
    "day_count = ActualActual(ActualActual.ISDA)  # Include the appropriate convention\n",
    "compound_type = Compounded\n",
    "frequency = Annual\n",
    "\n",
    "# Creating an interest rate instance\n",
    "interest_rate = InterestRate(annual_rate,\n",
    "                             day_count,\n",
    "                             compound_type,\n",
    "                             frequency)\n",
    "\n",
    "# Manually display the components of the interest rate\n",
    "print(f\"Annual Rate: {annual_rate * 100}%\")\n",
    "print(f\"Day Count Convention: {day_count.name()}\")\n",
    "print(f\"Compounding Type: {'Compounded' if compound_type == Compounded else 'Simple'}\")\n",
    "print(f\"Frequency: {'Annual' if frequency == Annual else 'Other'}\")\n",
    "\n",
    "# Calculate compound factor for 2 years\n",
    "t = 2.0\n",
    "print(f\"Compound Factor for {t} years: {interest_rate.compoundFactor(t)}\")\n",
    "print(f\"Manual Calculation: {(1 + annual_rate) ** t}\")\n"
   ]
  },
  {
   "cell_type": "code",
   "execution_count": null,
   "id": "c4fca464-fcc5-49dc-8610-26215433c173",
   "metadata": {},
   "outputs": [],
   "source": []
  }
 ],
 "metadata": {
  "kernelspec": {
   "display_name": "Python 3 (ipykernel)",
   "language": "python",
   "name": "python3"
  },
  "language_info": {
   "codemirror_mode": {
    "name": "ipython",
    "version": 3
   },
   "file_extension": ".py",
   "mimetype": "text/x-python",
   "name": "python",
   "nbconvert_exporter": "python",
   "pygments_lexer": "ipython3",
   "version": "3.12.4"
  }
 },
 "nbformat": 4,
 "nbformat_minor": 5
}
